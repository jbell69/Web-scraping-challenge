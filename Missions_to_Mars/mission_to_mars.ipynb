{
 "cells": [
  {
   "cell_type": "code",
   "execution_count": 21,
   "metadata": {},
   "outputs": [],
   "source": [
    "import requests, re\n",
    "from bs4 import BeautifulSoup\n",
    "from splinter import Browser\n",
    "import time\n",
    "import pandas as pd"
   ]
  },
  {
   "cell_type": "code",
   "execution_count": 22,
   "metadata": {},
   "outputs": [],
   "source": [
    "executable_path = {'executable_path': '/usr/local/bin/chromedriver'}\n",
    "browser = Browser('chrome', **executable_path, headless=False)"
   ]
  },
  {
   "cell_type": "code",
   "execution_count": null,
   "metadata": {},
   "outputs": [],
   "source": [
    "#url = input('SENT FROM USER REQUEST')\n",
    "url = 'https://mars.nasa.gov/news/?page=0&per_page=40&order=publish_date+desc%2Ccreated_at+desc&search=&category=19%2C165%2C184%2C204&blank_scope=Latest'\n",
    "\n",
    "browser.visit(url)\n",
    "html = browser.html\n",
    "\n",
    "soup = BeautifulSoup(html, 'html.parser')"
   ]
  },
  {
   "cell_type": "code",
   "execution_count": null,
   "metadata": {},
   "outputs": [],
   "source": [
    "# print(soup.prettify())"
   ]
  },
  {
   "cell_type": "code",
   "execution_count": null,
   "metadata": {},
   "outputs": [],
   "source": [
    "# Find most recent article header\n",
    "prep_news = soup.find(\"section\", class_='grid_gallery').find(\"div\", class_='list_text')\n",
    "\n",
    "recent_news_title = prep_news.find(\"div\", class_=\"content_title\").text\n",
    "recent_news_p = prep_news.find(\"div\", class_=\"article_teaser_body\").text\n",
    "print(f\"Most recent article title is: {recent_news_title}\")\n",
    "print(f\"Most recent article title is: {recent_news_p}\")"
   ]
  },
  {
   "cell_type": "markdown",
   "metadata": {},
   "source": [
    "# Feature image for Mars - Splinter"
   ]
  },
  {
   "cell_type": "code",
   "execution_count": null,
   "metadata": {},
   "outputs": [],
   "source": [
    "url2 = 'https://www.jpl.nasa.gov/spaceimages/?search=&category=Mars'\n",
    "browser.visit(url2)\n",
    "\n",
    "html = browser.html\n",
    "soup = BeautifulSoup(html, 'html.parser')"
   ]
  },
  {
   "cell_type": "code",
   "execution_count": null,
   "metadata": {},
   "outputs": [],
   "source": [
    "loc_image = soup.div.article['style']\n",
    "# loc_image"
   ]
  },
  {
   "cell_type": "code",
   "execution_count": null,
   "metadata": {},
   "outputs": [],
   "source": [
    "head, sep, tail = loc_image.partition(\"'\")\n",
    "\n",
    "# print (tail)"
   ]
  },
  {
   "cell_type": "code",
   "execution_count": null,
   "metadata": {},
   "outputs": [],
   "source": [
    "url = tail\n",
    "\n",
    "head, sep, tail = url.partition(\"'\")\n",
    "\n",
    "# print (head)"
   ]
  },
  {
   "cell_type": "code",
   "execution_count": null,
   "metadata": {},
   "outputs": [],
   "source": [
    "featured_image_url = \"https://www.jpl.nasa.gov\" + head\n",
    "print(featured_image_url)"
   ]
  },
  {
   "cell_type": "markdown",
   "metadata": {},
   "source": [
    "# Mars Weather from Twitter"
   ]
  },
  {
   "cell_type": "code",
   "execution_count": 23,
   "metadata": {},
   "outputs": [],
   "source": [
    "url3 = 'https://twitter.com/marswxreport?lang=en'\n",
    "browser.visit(url3)\n",
    "\n",
    "# html = browser.html\n",
    "# soup = BeautifulSoup(html, 'html.parser')"
   ]
  },
  {
   "cell_type": "code",
   "execution_count": 5,
   "metadata": {},
   "outputs": [
    {
     "data": {
      "text/plain": [
       "[<div class=\"js-tweet-text-container\">\n",
       " <p class=\"TweetTextSize TweetTextSize--normal js-tweet-text tweet-text\" data-aria-label-part=\"0\" lang=\"en\">The Mars2020 team at <a class=\"twitter-atreply pretty-link js-nav\" data-mentioned-user-id=\"19802879\" dir=\"ltr\" href=\"/NASAJPL\"><s>@</s><b>NASAJPL</b></a> is clearly working too hard <a class=\"twitter-timeline-link\" data-expanded-url=\"https://www.jpl.nasa.gov/news/news.php?feature=7418\" dir=\"ltr\" href=\"https://t.co/ZXULU6DNrd\" rel=\"nofollow noopener\" target=\"_blank\" title=\"https://www.jpl.nasa.gov/news/news.php?feature=7418\"><span class=\"tco-ellipsis\"></span><span class=\"invisible\">https://www.</span><span class=\"js-display-url\">jpl.nasa.gov/news/news.php?</span><span class=\"invisible\">feature=7418</span><span class=\"tco-ellipsis\"><span class=\"invisible\"> </span>…</span></a><a class=\"twitter-timeline-link u-hidden\" data-pre-embedded=\"true\" dir=\"ltr\" href=\"https://t.co/LYKYNu6lPV\">pic.twitter.com/LYKYNu6lPV</a></p>\n",
       " </div>, <div class=\"js-tweet-text-container\">\n",
       " <p class=\"TweetTextSize TweetTextSize--normal js-tweet-text tweet-text\" data-aria-label-part=\"0\" lang=\"en\">InSight sol 374 (2019-12-15) low -97.3ºC (-143.1ºF) high -21.2ºC (-6.1ºF)\n",
       " winds from the SSE at 5.6 m/s (12.5 mph) gusting to 22.0 m/s (49.1 mph)\n",
       " pressure at 6.50 hPa<a class=\"twitter-timeline-link u-hidden\" data-pre-embedded=\"true\" dir=\"ltr\" href=\"https://t.co/CPAP5esipU\">pic.twitter.com/CPAP5esipU</a></p>\n",
       " </div>, <div class=\"js-tweet-text-container\">\n",
       " <p class=\"TweetTextSize TweetTextSize--normal js-tweet-text tweet-text\" data-aria-label-part=\"0\" lang=\"en\">InSight sol 373 (2019-12-14) low -98.1ºC (-144.6ºF) high -20.1ºC (-4.1ºF)\n",
       " winds from the SW at 4.9 m/s (11.1 mph) gusting to 19.7 m/s (44.0 mph)\n",
       " pressure at 6.60 hPa<a class=\"twitter-timeline-link u-hidden\" data-pre-embedded=\"true\" dir=\"ltr\" href=\"https://t.co/J9DKptw2oo\">pic.twitter.com/J9DKptw2oo</a></p>\n",
       " </div>, <div class=\"js-tweet-text-container\">\n",
       " <p class=\"TweetTextSize TweetTextSize--normal js-tweet-text tweet-text\" data-aria-label-part=\"0\" lang=\"en\">InSight sol 372 (2019-12-13) low -97.2ºC (-143.0ºF) high -21.2ºC (-6.2ºF)\n",
       " winds from the SSE at 5.9 m/s (13.3 mph) gusting to 20.2 m/s (45.2 mph)\n",
       " pressure at 6.60 hPa<a class=\"twitter-timeline-link u-hidden\" data-pre-embedded=\"true\" dir=\"ltr\" href=\"https://t.co/SXXKNyUaJu\">pic.twitter.com/SXXKNyUaJu</a></p>\n",
       " </div>, <div class=\"js-tweet-text-container\">\n",
       " <p class=\"TweetTextSize TweetTextSize--normal js-tweet-text tweet-text\" data-aria-label-part=\"0\" lang=\"en\">InSight sol 371 (2019-12-12) low -96.6ºC (-141.9ºF) high -19.8ºC (-3.6ºF)\n",
       " winds from the SW at 5.3 m/s (11.8 mph) gusting to 21.0 m/s (46.9 mph)\n",
       " pressure at 6.60 hPa<a class=\"twitter-timeline-link u-hidden\" data-pre-embedded=\"true\" dir=\"ltr\" href=\"https://t.co/VKC855F0Mr\">pic.twitter.com/VKC855F0Mr</a></p>\n",
       " </div>, <div class=\"js-tweet-text-container\">\n",
       " <p class=\"TweetTextSize TweetTextSize--normal js-tweet-text tweet-text\" data-aria-label-part=\"0\" lang=\"en\">InSight sol 370 (2019-12-11) low -99.0ºC (-146.1ºF) high -19.5ºC (-3.0ºF)\n",
       " winds from the SSE at 5.1 m/s (11.4 mph) gusting to 19.6 m/s (43.9 mph)\n",
       " pressure at 6.60 hPa<a class=\"twitter-timeline-link u-hidden\" data-pre-embedded=\"true\" dir=\"ltr\" href=\"https://t.co/XqOy8yFlI6\">pic.twitter.com/XqOy8yFlI6</a></p>\n",
       " </div>, <div class=\"js-tweet-text-container\">\n",
       " <p class=\"TweetTextSize TweetTextSize--normal js-tweet-text tweet-text\" data-aria-label-part=\"0\" lang=\"en\">InSight sol 369 (2019-12-10) low -98.2ºC (-144.8ºF) high -21.2ºC (-6.1ºF)\n",
       " winds from the SSE at 5.3 m/s (11.9 mph) gusting to 19.7 m/s (44.1 mph)\n",
       " pressure at 6.60 hPa</p>\n",
       " </div>, <div class=\"js-tweet-text-container\">\n",
       " <p class=\"TweetTextSize TweetTextSize--normal js-tweet-text tweet-text\" data-aria-label-part=\"0\" lang=\"und\"><a class=\"twitter-timeline-link u-hidden\" data-expanded-url=\"https://www.nasa.gov/press-release/goddard/2019/mars-proton-aurora-common/\" dir=\"ltr\" href=\"https://t.co/aHUgKnMofh\" rel=\"nofollow noopener\" target=\"_blank\" title=\"https://www.nasa.gov/press-release/goddard/2019/mars-proton-aurora-common/\"><span class=\"tco-ellipsis\"></span><span class=\"invisible\">https://www.</span><span class=\"js-display-url\">nasa.gov/press-release/</span><span class=\"invisible\">goddard/2019/mars-proton-aurora-common/</span><span class=\"tco-ellipsis\"><span class=\"invisible\"> </span>…</span></a></p>\n",
       " </div>, <div class=\"js-tweet-text-container\">\n",
       " <p class=\"TweetTextSize TweetTextSize--normal js-tweet-text tweet-text\" data-aria-label-part=\"0\" lang=\"en\">InSight sol 368 (2019-12-09) low -100.0ºC (-148.1ºF) high -20.9ºC (-5.7ºF)\n",
       " winds from the SSE at 4.6 m/s (10.3 mph) gusting to 20.9 m/s (46.8 mph)\n",
       " pressure at 6.60 hPa<a class=\"twitter-timeline-link u-hidden\" data-pre-embedded=\"true\" dir=\"ltr\" href=\"https://t.co/61fJKr5rsU\">pic.twitter.com/61fJKr5rsU</a></p>\n",
       " </div>, <div class=\"js-tweet-text-container\">\n",
       " <p class=\"TweetTextSize TweetTextSize--normal js-tweet-text tweet-text\" data-aria-label-part=\"0\" lang=\"en\">InSight sol 367 (2019-12-08) low -139.9ºC (-219.9ºF) high -20.9ºC (-5.6ºF)\n",
       " winds from the SSE at 5.9 m/s (13.3 mph) gusting to 21.9 m/s (49.0 mph)\n",
       " pressure at 6.60 hPa<a class=\"twitter-timeline-link u-hidden\" data-pre-embedded=\"true\" dir=\"ltr\" href=\"https://t.co/iP1AnpDDvS\">pic.twitter.com/iP1AnpDDvS</a></p>\n",
       " </div>, <div class=\"js-tweet-text-container\">\n",
       " <p class=\"TweetTextSize TweetTextSize--normal js-tweet-text tweet-text\" data-aria-label-part=\"0\" lang=\"en\">InSight sol 366 (2019-12-07) low -98.9ºC (-146.1ºF) high -20.4ºC (-4.8ºF)\n",
       " winds from the SSE at 5.7 m/s (12.6 mph) gusting to 20.4 m/s (45.5 mph)\n",
       " pressure at 6.60 hPa<a class=\"twitter-timeline-link u-hidden\" data-pre-embedded=\"true\" dir=\"ltr\" href=\"https://t.co/BYqMmSLmWr\">pic.twitter.com/BYqMmSLmWr</a></p>\n",
       " </div>, <div class=\"js-tweet-text-container\">\n",
       " <p class=\"TweetTextSize TweetTextSize--normal js-tweet-text tweet-text\" data-aria-label-part=\"0\" lang=\"en\">InSight sol 365 (2019-12-06) low -98.8ºC (-145.8ºF) high -21.5ºC (-6.8ºF)\n",
       " winds from the SSW at 5.7 m/s (12.7 mph) gusting to 20.2 m/s (45.2 mph)\n",
       " pressure at 6.60 hPa<a class=\"twitter-timeline-link u-hidden\" data-pre-embedded=\"true\" dir=\"ltr\" href=\"https://t.co/JF2KNAksNr\">pic.twitter.com/JF2KNAksNr</a></p>\n",
       " </div>, <div class=\"js-tweet-text-container\">\n",
       " <p class=\"TweetTextSize TweetTextSize--normal js-tweet-text tweet-text\" data-aria-label-part=\"0\" lang=\"en\">InSight sol 364 (2019-12-05) low -99.9ºC (-147.8ºF) high -20.3ºC (-4.6ºF)\n",
       " winds from the S at 5.1 m/s (11.3 mph) gusting to 21.7 m/s (48.5 mph)\n",
       " pressure at 6.70 hPa</p>\n",
       " </div>, <div class=\"js-tweet-text-container\">\n",
       " <p class=\"TweetTextSize TweetTextSize--normal js-tweet-text tweet-text\" data-aria-label-part=\"0\" lang=\"en\">InSight sol 363 (2019-12-04) low -99.8ºC (-147.6ºF) high -21.1ºC (-5.9ºF)\n",
       " winds from the SSE at 5.8 m/s (13.0 mph) gusting to 20.3 m/s (45.4 mph)\n",
       " pressure at 6.60 hPa<a class=\"twitter-timeline-link u-hidden\" data-pre-embedded=\"true\" dir=\"ltr\" href=\"https://t.co/pKG1TNMmQ2\">pic.twitter.com/pKG1TNMmQ2</a></p>\n",
       " </div>, <div class=\"js-tweet-text-container\">\n",
       " <p class=\"TweetTextSize TweetTextSize--normal js-tweet-text tweet-text\" data-aria-label-part=\"0\" lang=\"en\">InSight sol 362 (2019-12-03) low -98.5ºC (-145.4ºF) high -21.2ºC (-6.1ºF)\n",
       " winds from the SSE at 5.2 m/s (11.7 mph) gusting to 20.0 m/s (44.6 mph)\n",
       " pressure at 6.70 hPa</p>\n",
       " </div>, <div class=\"js-tweet-text-container\">\n",
       " <p class=\"TweetTextSize TweetTextSize--normal js-tweet-text tweet-text\" data-aria-label-part=\"0\" lang=\"en\">InSight sol 361 (2019-12-02) low -98.2ºC (-144.7ºF) high -21.2ºC (-6.2ºF)\n",
       " winds from the SSW at 4.9 m/s (11.0 mph) gusting to 18.9 m/s (42.3 mph)\n",
       " pressure at 6.70 hPa<a class=\"twitter-timeline-link u-hidden\" data-pre-embedded=\"true\" dir=\"ltr\" href=\"https://t.co/KaXCpm5qeV\">pic.twitter.com/KaXCpm5qeV</a></p>\n",
       " </div>, <div class=\"js-tweet-text-container\">\n",
       " <p class=\"TweetTextSize TweetTextSize--normal js-tweet-text tweet-text\" data-aria-label-part=\"0\" lang=\"en\">InSight sol 360 (2019-12-01) low -100.1ºC (-148.3ºF) high -20.6ºC (-5.1ºF)\n",
       " winds from the SSE at 5.0 m/s (11.2 mph) gusting to 19.5 m/s (43.7 mph)\n",
       " pressure at 6.70 hPa<a class=\"twitter-timeline-link u-hidden\" data-pre-embedded=\"true\" dir=\"ltr\" href=\"https://t.co/YLEhj8gQGi\">pic.twitter.com/YLEhj8gQGi</a></p>\n",
       " </div>, <div class=\"js-tweet-text-container\">\n",
       " <p class=\"TweetTextSize TweetTextSize--normal js-tweet-text tweet-text\" data-aria-label-part=\"0\" lang=\"en\">InSight sol 359 (2019-11-30) low -99.3ºC (-146.8ºF) high -21.8ºC (-7.2ºF)\n",
       " winds from the SSE at 5.8 m/s (13.0 mph) gusting to 23.3 m/s (52.0 mph)\n",
       " pressure at 6.70 hPa<a class=\"twitter-timeline-link u-hidden\" data-pre-embedded=\"true\" dir=\"ltr\" href=\"https://t.co/cKJj2YTDad\">pic.twitter.com/cKJj2YTDad</a></p>\n",
       " </div>, <div class=\"js-tweet-text-container\">\n",
       " <p class=\"TweetTextSize TweetTextSize--normal js-tweet-text tweet-text\" data-aria-label-part=\"0\" lang=\"en\">InSight sol 358 (2019-11-29) low -99.0ºC (-146.1ºF) high -21.5ºC (-6.7ºF)\n",
       " winds from the SSE at 5.4 m/s (12.0 mph) gusting to 19.5 m/s (43.6 mph)\n",
       " pressure at 6.70 hPa<a class=\"twitter-timeline-link u-hidden\" data-pre-embedded=\"true\" dir=\"ltr\" href=\"https://t.co/U4v6qiVlSW\">pic.twitter.com/U4v6qiVlSW</a></p>\n",
       " </div>, <div class=\"js-tweet-text-container\">\n",
       " <p class=\"TweetTextSize TweetTextSize--normal js-tweet-text tweet-text\" data-aria-label-part=\"0\" lang=\"en\">InSight sol 357 (2019-11-28) low -101.0ºC (-149.8ºF) high -20.8ºC (-5.4ºF)\n",
       " winds from the SSE at 5.3 m/s (11.8 mph) gusting to 20.7 m/s (46.3 mph)\n",
       " pressure at 6.70 hPa<a class=\"twitter-timeline-link u-hidden\" data-pre-embedded=\"true\" dir=\"ltr\" href=\"https://t.co/xTk37j1IsN\">pic.twitter.com/xTk37j1IsN</a></p>\n",
       " </div>]"
      ]
     },
     "execution_count": 5,
     "metadata": {},
     "output_type": "execute_result"
    }
   ],
   "source": [
    "recent_weather_tweet = soup.findAll(\"div\", class_='js-tweet-text-container')\n",
    "recent_weather_tweet"
   ]
  },
  {
   "cell_type": "code",
   "execution_count": 20,
   "metadata": {},
   "outputs": [
    {
     "ename": "AttributeError",
     "evalue": "ResultSet object has no attribute 'find'. You're probably treating a list of items like a single item. Did you call find_all() when you meant to call find()?",
     "output_type": "error",
     "traceback": [
      "\u001b[0;31m---------------------------------------------------------------------------\u001b[0m",
      "\u001b[0;31mAttributeError\u001b[0m                            Traceback (most recent call last)",
      "\u001b[0;32m<ipython-input-20-5f7a6561c2d5>\u001b[0m in \u001b[0;36m<module>\u001b[0;34m\u001b[0m\n\u001b[1;32m      2\u001b[0m \u001b[0;31m# #     if elem.text == \"InSight\":\u001b[0m\u001b[0;34m\u001b[0m\u001b[0;34m\u001b[0m\u001b[0;34m\u001b[0m\u001b[0m\n\u001b[1;32m      3\u001b[0m \u001b[0;31m#         print(elem)\u001b[0m\u001b[0;34m\u001b[0m\u001b[0;34m\u001b[0m\u001b[0;34m\u001b[0m\u001b[0m\n\u001b[0;32m----> 4\u001b[0;31m \u001b[0mrecent_weather_tweet\u001b[0m\u001b[0;34m.\u001b[0m\u001b[0mfind\u001b[0m\u001b[0;34m(\u001b[0m\u001b[0mtext\u001b[0m\u001b[0;34m=\u001b[0m\u001b[0mre\u001b[0m\u001b[0;34m.\u001b[0m\u001b[0mcompile\u001b[0m\u001b[0;34m(\u001b[0m\u001b[0;34m'^InSight$'\u001b[0m\u001b[0;34m)\u001b[0m\u001b[0;34m)\u001b[0m\u001b[0;34m\u001b[0m\u001b[0;34m\u001b[0m\u001b[0m\n\u001b[0m",
      "\u001b[0;32m~/.conda/envs/PythonWebMongo/lib/python3.6/site-packages/bs4/element.py\u001b[0m in \u001b[0;36m__getattr__\u001b[0;34m(self, key)\u001b[0m\n\u001b[1;32m   1576\u001b[0m     \u001b[0;32mdef\u001b[0m \u001b[0m__getattr__\u001b[0m\u001b[0;34m(\u001b[0m\u001b[0mself\u001b[0m\u001b[0;34m,\u001b[0m \u001b[0mkey\u001b[0m\u001b[0;34m)\u001b[0m\u001b[0;34m:\u001b[0m\u001b[0;34m\u001b[0m\u001b[0;34m\u001b[0m\u001b[0m\n\u001b[1;32m   1577\u001b[0m         raise AttributeError(\n\u001b[0;32m-> 1578\u001b[0;31m             \u001b[0;34m\"ResultSet object has no attribute '%s'. You're probably treating a list of items like a single item. Did you call find_all() when you meant to call find()?\"\u001b[0m \u001b[0;34m%\u001b[0m \u001b[0mkey\u001b[0m\u001b[0;34m\u001b[0m\u001b[0;34m\u001b[0m\u001b[0m\n\u001b[0m\u001b[1;32m   1579\u001b[0m         )\n",
      "\u001b[0;31mAttributeError\u001b[0m: ResultSet object has no attribute 'find'. You're probably treating a list of items like a single item. Did you call find_all() when you meant to call find()?"
     ]
    }
   ],
   "source": [
    "# for elem in soup.findAll('p', {'class':'TweetTextSize'}):\n",
    "# #     if elem.text == \"InSight\":\n",
    "#         print(elem)\n",
    "recent_weather_tweet.findAll(text=re.compile('^InSight$'))"
   ]
  },
  {
   "cell_type": "code",
   "execution_count": 56,
   "metadata": {},
   "outputs": [
    {
     "name": "stdout",
     "output_type": "stream",
     "text": [
      "InSight sol 374 (2019-12-15) low -97.3ºC (-143.1ºF) high -21.2ºC (-6.1ºF)\n",
      "winds from the SSE at 5.6 m/s (12.5 mph) gusting to 22.0 m/s (49.1 mph)\n",
      "pressure at 6.50 hPa\n"
     ]
    }
   ],
   "source": [
    "page = requests.get(url3).text\n",
    "soup = BeautifulSoup(page, 'lxml')\n",
    "item = soup.findAll(string=re.compile('InSight', re.IGNORECASE))[0]\n",
    "print(item)"
   ]
  },
  {
   "cell_type": "code",
   "execution_count": null,
   "metadata": {},
   "outputs": [],
   "source": [
    "# Find most recent weather\n",
    "if \"InSight\" in recent_weather_tweet : \n",
    "\n",
    "    if \"hPapic\" in recent_weather_tweet : \n",
    "\n",
    "        weather1 = (recent_weather_tweet.replace(\"hPapic\", \"hPa \"))\n",
    "\n",
    "        spl_word = 'hPa'\n",
    "\n",
    "        weather_clean = weather1.partition(spl_word)[0]\n",
    "        mars_weather = (weather_clean + \"hPa\")\n",
    "        print(mars_weather)\n",
    "\n",
    "else :\n",
    "    print(\"No weather data yet\")"
   ]
  },
  {
   "cell_type": "markdown",
   "metadata": {},
   "source": [
    "# Mars Facts"
   ]
  },
  {
   "cell_type": "code",
   "execution_count": null,
   "metadata": {},
   "outputs": [],
   "source": [
    "url4 = 'https://space-facts.com/mars/'"
   ]
  },
  {
   "cell_type": "code",
   "execution_count": null,
   "metadata": {},
   "outputs": [],
   "source": [
    "tables = pd.read_html(url4)\n",
    "# tables"
   ]
  },
  {
   "cell_type": "code",
   "execution_count": null,
   "metadata": {},
   "outputs": [],
   "source": [
    "Mars_df = tables[0]\n",
    "# Mars_df"
   ]
  },
  {
   "cell_type": "code",
   "execution_count": null,
   "metadata": {},
   "outputs": [],
   "source": [
    "Mars_df.columns = ['Description', 'Values']\n",
    "Mars_df.to_html('Mars_Stats_table.html', index=False)"
   ]
  },
  {
   "cell_type": "markdown",
   "metadata": {},
   "source": [
    "# Mars hemispheres"
   ]
  },
  {
   "cell_type": "code",
   "execution_count": 12,
   "metadata": {},
   "outputs": [],
   "source": [
    "url5 = 'https://astrogeology.usgs.gov/search/results?q=hemisphere+enhanced&k1=target&v1=Mars'\n",
    "browser.visit(url5)"
   ]
  },
  {
   "cell_type": "code",
   "execution_count": 28,
   "metadata": {},
   "outputs": [
    {
     "name": "stdout",
     "output_type": "stream",
     "text": [
      "{'title': 'Cerberus Hemisphere Enhanced', 'img_url': 'http://astropedia.astrogeology.usgs.gov/download/Mars/Viking/cerberus_enhanced.tif/full.jpg'}\n",
      "{'title': 'Schiaparelli Hemisphere Enhanced', 'img_url': 'http://astropedia.astrogeology.usgs.gov/download/Mars/Viking/schiaparelli_enhanced.tif/full.jpg'}\n",
      "{'title': 'Syrtis Major Hemisphere Enhanced', 'img_url': 'http://astropedia.astrogeology.usgs.gov/download/Mars/Viking/syrtis_major_enhanced.tif/full.jpg'}\n",
      "{'title': 'Valles Marineris Hemisphere Enhanced', 'img_url': 'http://astropedia.astrogeology.usgs.gov/download/Mars/Viking/valles_marineris_enhanced.tif/full.jpg'}\n",
      "[{'title': 'Cerberus Hemisphere Enhanced', 'img_url': 'http://astropedia.astrogeology.usgs.gov/download/Mars/Viking/cerberus_enhanced.tif/full.jpg'}, {'title': 'Schiaparelli Hemisphere Enhanced', 'img_url': 'http://astropedia.astrogeology.usgs.gov/download/Mars/Viking/schiaparelli_enhanced.tif/full.jpg'}, {'title': 'Syrtis Major Hemisphere Enhanced', 'img_url': 'http://astropedia.astrogeology.usgs.gov/download/Mars/Viking/syrtis_major_enhanced.tif/full.jpg'}, {'title': 'Valles Marineris Hemisphere Enhanced', 'img_url': 'http://astropedia.astrogeology.usgs.gov/download/Mars/Viking/valles_marineris_enhanced.tif/full.jpg'}]\n"
     ]
    }
   ],
   "source": [
    "html = browser.html\n",
    "soup = BeautifulSoup(html, 'html.parser')\n",
    "\n",
    "Mars_hemi_data_list = []\n",
    "\n",
    "for i in range(4):\n",
    "\n",
    "    Mars_hemi_data = {}\n",
    "\n",
    "    browser.find_by_css('img[class=thumb]')[i].click()\n",
    "\n",
    "    html = browser.html\n",
    "    soup = BeautifulSoup(html, 'html.parser')\n",
    "\n",
    "    time.sleep(1)\n",
    "    \n",
    "    hemi_page = soup.find('div', class_='content')\n",
    "    hemi_link_list = hemi_page.find('section', class_='block metadata')\n",
    "    \n",
    "    Mars_hemi_data['title'] = hemi_link_list.h2.text\n",
    "    \n",
    "    hemi_img_page = soup.find('div', class_='downloads')\n",
    "\n",
    "    Mars_hemi_data['img_url'] = hemi_img_page.li.a['href']\n",
    "    \n",
    "    Mars_hemi_data_list.append(Mars_hemi_data)\n",
    "    print(Mars_hemi_data)\n",
    "    \n",
    "    browser.back()\n",
    "print(Mars_hemi_data_list)"
   ]
  },
  {
   "cell_type": "code",
   "execution_count": null,
   "metadata": {},
   "outputs": [],
   "source": []
  }
 ],
 "metadata": {
  "kernelspec": {
   "display_name": "Python 3",
   "language": "python",
   "name": "python3"
  },
  "language_info": {
   "codemirror_mode": {
    "name": "ipython",
    "version": 3
   },
   "file_extension": ".py",
   "mimetype": "text/x-python",
   "name": "python",
   "nbconvert_exporter": "python",
   "pygments_lexer": "ipython3",
   "version": "3.6.9"
  }
 },
 "nbformat": 4,
 "nbformat_minor": 2
}
